{
  "nbformat": 4,
  "nbformat_minor": 0,
  "metadata": {
    "colab": {
      "provenance": [],
      "authorship_tag": "ABX9TyNNhzjAkeJpS8Yu0rQ+KRL/",
      "include_colab_link": true
    },
    "kernelspec": {
      "name": "python3",
      "display_name": "Python 3"
    },
    "language_info": {
      "name": "python"
    }
  },
  "cells": [
    {
      "cell_type": "markdown",
      "metadata": {
        "id": "view-in-github",
        "colab_type": "text"
      },
      "source": [
        "<a href=\"https://colab.research.google.com/github/chaulagai2001/Speech_for_timit_dataset/blob/main/features_extraction.ipynb\" target=\"_parent\"><img src=\"https://colab.research.google.com/assets/colab-badge.svg\" alt=\"Open In Colab\"/></a>"
      ]
    },
    {
      "cell_type": "code",
      "source": [
        "# Move the uploaded Kaggle API key to the required directory\n",
        "!mkdir -p ~/.kaggle\n",
        "!cp kaggle.json ~/.kaggle/\n",
        "!chmod 600 ~/.kaggle/kaggle.json\n",
        "\n",
        "# Replace \"your_dataset\" with the Kaggle dataset username/dataset name\n",
        "!kaggle datasets download -d mfekadu/darpa-timit-acousticphonetic-continuous-speech"
      ],
      "metadata": {
        "colab": {
          "base_uri": "https://localhost:8080/"
        },
        "id": "xYK1ipQ0NQl-",
        "outputId": "fb0fde91-5545-4b01-a06f-e8a474cc06be"
      },
      "execution_count": 1,
      "outputs": [
        {
          "output_type": "stream",
          "name": "stdout",
          "text": [
            "Downloading darpa-timit-acousticphonetic-continuous-speech.zip to /content\n",
            "100% 826M/829M [00:28<00:00, 33.1MB/s]\n",
            "100% 829M/829M [00:28<00:00, 30.6MB/s]\n"
          ]
        }
      ]
    },
    {
      "cell_type": "code",
      "source": [
        "!unzip -q darpa-timit-acousticphonetic-continuous-speech.zip -d darpa-timit-acousticphonetic-continuous-speech"
      ],
      "metadata": {
        "id": "LXqqmizLNZwV"
      },
      "execution_count": 2,
      "outputs": []
    },
    {
      "cell_type": "code",
      "source": [
        "import os\n",
        "import numpy as np\n",
        "import librosa\n",
        "from sklearn import preprocessing"
      ],
      "metadata": {
        "id": "mjdOZO6mNfb7"
      },
      "execution_count": 3,
      "outputs": []
    },
    {
      "cell_type": "code",
      "source": [
        "# Phoneme mapping dictionary, adjust based on your actual mapping:\n",
        "phn_map ={\n",
        "  \"iy\": 1,\n",
        "  \"ix\": 2,\n",
        "  \"ih\": 3,\n",
        "  \"eh\": 4,\n",
        "  \"ae\": 5,\n",
        "  \"ax\": 6,\n",
        "  \"ah\": 7,\n",
        "  \"ax-h\": 8,\n",
        "  \"uw\": 9,\n",
        "  \"ux\": 10,\n",
        "  \"uh\": 11,\n",
        "  \"ao\": 12,\n",
        "  \"aa\": 13,\n",
        "  \"ey\": 14,\n",
        "  \"ay\": 15,\n",
        "  \"oy\": 16,\n",
        "  \"aw\": 17,\n",
        "  \"ow\": 18,\n",
        "  \"er\": 19,\n",
        "  \"axr\": 20,\n",
        "  \"l\": 21,\n",
        "  \"el\": 22,\n",
        "  \"r\": 23,\n",
        "  \"w\": 24,\n",
        "  \"y\": 25,\n",
        "  \"m\": 26,\n",
        "  \"em\": 27,\n",
        "  \"n\": 28,\n",
        "  \"en\": 29,\n",
        "  \"nx\": 30,\n",
        "  \"ng\": 31,\n",
        "  \"eng\": 32,\n",
        "  \"v\": 33,\n",
        "  \"f\": 34,\n",
        "  \"dh\": 35,\n",
        "  \"th\": 36,\n",
        "  \"z\": 37,\n",
        "  \"s\": 38,\n",
        "  \"zh\": 39,\n",
        "  \"sh\": 40,\n",
        "  \"jh\": 41,\n",
        "  \"ch\": 42,\n",
        "  \"b\": 43,\n",
        "  \"p\": 44,\n",
        "  \"d\": 45,\n",
        "  \"dx\": 46,\n",
        "  \"t\": 47,\n",
        "  \"g\": 48,\n",
        "  \"k\": 49,\n",
        "  \"hh\": 50,\n",
        "  \"hv\": 51,\n",
        "  \"bcl\": 52,\n",
        "  \"pcl\": 53,\n",
        "  \"dcl\": 54,\n",
        "  \"tcl\": 55,\n",
        "  \"gcl\": 56,\n",
        "  \"kcl\": 57,\n",
        "  \"q\": 58,\n",
        "  \"epi\": 59,\n",
        "  \"pau\": 60,\n",
        "  \"h#\": 61\n",
        "}"
      ],
      "metadata": {
        "id": "NvJL60IZNkP_"
      },
      "execution_count": 5,
      "outputs": []
    },
    {
      "cell_type": "code",
      "source": [
        "def load_phoneme_labels(label_filename):\n",
        "    phenome = []\n",
        "    with open(label_filename, 'r') as f:\n",
        "        for line in f.read().splitlines():\n",
        "            start_time, end_time, phoneme = line.split()\n",
        "            phenome.append((float(start_time), float(end_time), phn_map.get(phoneme)))\n",
        "    return phenome\n",
        "\n",
        "def align_labels(audio_length, phenome, win_len, win_step):\n",
        "    aligned_labels = []\n",
        "    current_time = 0.0\n",
        "    for i in range(len(phenome)):\n",
        "        start_time, end_time, phoneme = phenome[i]\n",
        "        while current_time < end_time:\n",
        "            if current_time >= start_time:\n",
        "                aligned_labels.append(phoneme)\n",
        "            current_time += win_step\n",
        "    return aligned_labels"
      ],
      "metadata": {
        "id": "590xP5UnO4C2"
      },
      "execution_count": 6,
      "outputs": []
    },
    {
      "cell_type": "code",
      "source": [
        "phoneme_filename = \"/content/darpa-timit-acousticphonetic-continuous-speech/data/TEST/DR1/FAKS0/SA1.PHN\"  # Replace \"your_phoneme_file.txt\" with the actual filename\n",
        "\n",
        "# Call the load_phoneme_labels function with the filename\n",
        "phoneme_labels = load_phoneme_labels(phoneme_filename)\n",
        "phoneme_labels"
      ],
      "metadata": {
        "colab": {
          "base_uri": "https://localhost:8080/"
        },
        "id": "S4xb4ZcrO5pB",
        "outputId": "1fdc4e4d-935f-4cfb-9581-72eccabc5f8f"
      },
      "execution_count": 7,
      "outputs": [
        {
          "output_type": "execute_result",
          "data": {
            "text/plain": [
              "[(0.0, 9640.0, 61),\n",
              " (9640.0, 11240.0, 40),\n",
              " (11240.0, 12783.0, 1),\n",
              " (12783.0, 14078.0, 51),\n",
              " (14078.0, 16157.0, 5),\n",
              " (16157.0, 16880.0, 54),\n",
              " (16880.0, 17103.0, 45),\n",
              " (17103.0, 17587.0, 25),\n",
              " (17587.0, 18760.0, 19),\n",
              " (18760.0, 19720.0, 54),\n",
              " (19720.0, 19962.0, 45),\n",
              " (19962.0, 21514.0, 13),\n",
              " (21514.0, 22680.0, 23),\n",
              " (22680.0, 23800.0, 57),\n",
              " (23800.0, 24104.0, 49),\n",
              " (24104.0, 26280.0, 38),\n",
              " (26280.0, 28591.0, 9),\n",
              " (28591.0, 29179.0, 46),\n",
              " (29179.0, 30337.0, 3),\n",
              " (30337.0, 31880.0, 31),\n",
              " (31880.0, 32500.0, 56),\n",
              " (32500.0, 33170.0, 48),\n",
              " (33170.0, 33829.0, 23),\n",
              " (33829.0, 35150.0, 1),\n",
              " (35150.0, 37370.0, 38),\n",
              " (37370.0, 38568.0, 1),\n",
              " (38568.0, 40546.0, 24),\n",
              " (40546.0, 42357.0, 13),\n",
              " (42357.0, 45119.0, 40),\n",
              " (45119.0, 45624.0, 59),\n",
              " (45624.0, 46855.0, 24),\n",
              " (46855.0, 48680.0, 13),\n",
              " (48680.0, 49240.0, 46),\n",
              " (49240.0, 51033.0, 19),\n",
              " (51033.0, 52378.0, 58),\n",
              " (52378.0, 54500.0, 12),\n",
              " (54500.0, 55461.0, 21),\n",
              " (55461.0, 57395.0, 25),\n",
              " (57395.0, 59179.0, 1),\n",
              " (59179.0, 60600.0, 20),\n",
              " (60600.0, 63440.0, 61)]"
            ]
          },
          "metadata": {},
          "execution_count": 7
        }
      ]
    },
    {
      "cell_type": "code",
      "source": [
        "def process_audio_files(audio_file_path, label_file_path, save_directory, mode, feature_len, win_len, win_step, seq2seq, save):\n",
        "    filenameNoSuffix = os.path.splitext(os.path.basename(audio_file_path))[0]\n",
        "\n",
        "    # Load and process audio\n",
        "    sig, rate = librosa.load(audio_file_path, sr=16000)\n",
        "    feat = librosa.feature.mfcc(y=sig, sr=rate, n_mfcc=feature_len, hop_length=int(rate*win_step), n_fft=int(rate*win_len))\n",
        "\n",
        "    # Transpose feature matrix to have frames as rows\n",
        "    feat = np.transpose(feat)\n",
        "\n",
        "    # Read phoneme labels\n",
        "    phenome = load_phoneme_labels(label_file_path)\n",
        "    aligned_labels = align_labels(len(sig) / rate, phenome, win_len, win_step)\n",
        "\n",
        "    # Save data (modify paths as needed)\n",
        "    feat_dir = os.path.join(save_directory, 'features')\n",
        "    label_dir = os.path.join(save_directory, 'labels')\n",
        "    os.makedirs(feat_dir, exist_ok=True)\n",
        "    os.makedirs(label_dir, exist_ok=True)\n",
        "\n",
        "    # Save each feature set in individual .npy files\n",
        "    for i, feature_set in enumerate(feat):\n",
        "        feature_filename = os.path.join(feat_dir, f'{filenameNoSuffix}_feat_{i}.npy')\n",
        "        np.save(feature_filename, feature_set)\n",
        "\n",
        "    # Save aligned labels in a single .npy file\n",
        "    label_filename = os.path.join(label_dir, filenameNoSuffix + '.npy')\n",
        "    np.save(label_filename, aligned_labels)\n",
        "\n",
        "# Example usage:\n",
        "audio_file_path = \"/content/darpa-timit-acousticphonetic-continuous-speech/data/TEST/DR1/FAKS0/SA1.WAV.wav\"  # Replace with the path to your .wav file\n",
        "label_file_path = \"/content/darpa-timit-acousticphonetic-continuous-speech/data/TEST/DR1/FAKS0/SA1.PHN\"  # Replace with the path to your .phn file\n",
        "save_directory = \"/content/SA1\"    # Replace with the directory where you want to save features and labels\n",
        "mode = \"mfcc\"\n",
        "feature_len = 13  # Example value, adjust according to your needs\n",
        "win_len = 0.025   # Example value, adjust according to your needs\n",
        "win_step = 0.01   # Example value, adjust according to your needs\n",
        "seq2seq = False   # Example value, adjust according to your needs\n",
        "save = True       # Example value, adjust according to your needs\n",
        "\n",
        "process_audio_files(audio_file_path, label_file_path, save_directory, mode, feature_len, win_len, win_step, seq2seq, save)\n"
      ],
      "metadata": {
        "id": "li2BOVZQPQUN"
      },
      "execution_count": 38,
      "outputs": []
    },
    {
      "cell_type": "code",
      "source": [
        "features"
      ],
      "metadata": {
        "colab": {
          "base_uri": "https://localhost:8080/"
        },
        "id": "hK1o2x_aUQ9X",
        "outputId": "5add718a-e11d-41c2-f64e-1b12128b83c9"
      },
      "execution_count": 44,
      "outputs": [
        {
          "output_type": "execute_result",
          "data": {
            "text/plain": [
              "[]"
            ]
          },
          "metadata": {},
          "execution_count": 44
        }
      ]
    },
    {
      "cell_type": "code",
      "source": [
        "labels"
      ],
      "metadata": {
        "colab": {
          "base_uri": "https://localhost:8080/"
        },
        "id": "Kusq00t-US5N",
        "outputId": "fd901600-fb83-4396-c293-a29defca7e79"
      },
      "execution_count": 40,
      "outputs": [
        {
          "output_type": "execute_result",
          "data": {
            "text/plain": [
              "[]"
            ]
          },
          "metadata": {},
          "execution_count": 40
        }
      ]
    },
    {
      "cell_type": "code",
      "source": [
        "# Load MFCC features and aligned phoneme labels\n",
        "mfcc_features = np.load(feature_filename)  # Load MFCC features\n",
        "aligned_labels = np.load(label_filename)   # Load aligned phoneme labels\n",
        "\n",
        "# Now you can associate each frame of MFCC features with its corresponding phoneme label\n",
        "for frame, label in zip(mfcc_features, aligned_labels):\n",
        "    print(\"Frame:\", frame, \"Label:\", label)\n"
      ],
      "metadata": {
        "id": "bXYUMY8fVNxz"
      },
      "execution_count": null,
      "outputs": []
    },
    {
      "cell_type": "code",
      "source": [
        "feature = np.load(\"/content/SA1/features/SA1.WAV_feat_103.npy\")\n",
        "feature.shape"
      ],
      "metadata": {
        "colab": {
          "base_uri": "https://localhost:8080/"
        },
        "id": "6Ik_24K2Zl-o",
        "outputId": "1621c151-3394-423a-a290-c8ddaf75a520"
      },
      "execution_count": 50,
      "outputs": [
        {
          "output_type": "execute_result",
          "data": {
            "text/plain": [
              "(13,)"
            ]
          },
          "metadata": {},
          "execution_count": 50
        }
      ]
    },
    {
      "cell_type": "code",
      "source": [
        "array = np.load(\"/content/SA1/labels/SA1.WAV.npy\")\n",
        "array.shape"
      ],
      "metadata": {
        "colab": {
          "base_uri": "https://localhost:8080/"
        },
        "id": "Q1YtXUPzZvdj",
        "outputId": "644d9aef-63e4-4746-81d8-85ee7f33b006"
      },
      "execution_count": 53,
      "outputs": [
        {
          "output_type": "execute_result",
          "data": {
            "text/plain": [
              "(6344000,)"
            ]
          },
          "metadata": {},
          "execution_count": 53
        }
      ]
    },
    {
      "cell_type": "code",
      "source": [
        "# Import numpy\n",
        "import numpy as np\n",
        "\n",
        "# Load the array\n",
        "labels = np.load(\"/content/SA1/labels/SA1.WAV.npy\")\n",
        "\n",
        "# Choose a filename\n",
        "output_file = \"labels.txt\"\n",
        "\n",
        "# Save the array to a text file with comma-separated values\n",
        "np.savetxt(output_file, labels, delimiter=\",\")\n",
        "\n",
        "print(f\"Array saved to: {output_file}\")\n"
      ],
      "metadata": {
        "colab": {
          "base_uri": "https://localhost:8080/"
        },
        "id": "jdsc8wffZz1h",
        "outputId": "b1b5ae2f-629c-42d1-c8f0-fc85959ed26d"
      },
      "execution_count": 47,
      "outputs": [
        {
          "output_type": "stream",
          "name": "stdout",
          "text": [
            "Array saved to: labels.txt\n"
          ]
        }
      ]
    },
    {
      "cell_type": "code",
      "source": [
        "features_dir = \"/content/SA1/features\"  # Replace with your actual directory path\n",
        "\n",
        "features = []\n",
        "\n",
        "# Loop through all files in the directory\n",
        "for filename in os.listdir(features_dir):\n",
        "    # Check if the file is a `.npy` file\n",
        "    if filename.endswith(\".npy\"):\n",
        "        feature_path = os.path.join(features_dir, filename)\n",
        "        feature = np.load(feature_path)\n",
        "        features.append(feature)\n",
        "\n",
        "print(f\"Loaded {len(features)} features\")\n"
      ],
      "metadata": {
        "colab": {
          "base_uri": "https://localhost:8080/"
        },
        "id": "1LWFnbmYaUvb",
        "outputId": "f2edde60-e2fc-4c3b-be5f-cce9d3491605"
      },
      "execution_count": 51,
      "outputs": [
        {
          "output_type": "stream",
          "name": "stdout",
          "text": [
            "Loaded 397 features\n"
          ]
        }
      ]
    },
    {
      "cell_type": "code",
      "source": [
        "combined_features = np.concatenate(features, axis=0)"
      ],
      "metadata": {
        "id": "IkRV3LzdbnZn"
      },
      "execution_count": 57,
      "outputs": []
    },
    {
      "cell_type": "code",
      "source": [
        "combined_features"
      ],
      "metadata": {
        "colab": {
          "base_uri": "https://localhost:8080/"
        },
        "id": "awDbLZ9LcsPB",
        "outputId": "216c6532-87e5-471b-c1b9-d175577e8e6c"
      },
      "execution_count": 59,
      "outputs": [
        {
          "output_type": "execute_result",
          "data": {
            "text/plain": [
              "array([-411.34244 ,  111.17155 ,  -65.11557 , ...,   -8.515079,\n",
              "        -16.239136,   -9.489464], dtype=float32)"
            ]
          },
          "metadata": {},
          "execution_count": 59
        }
      ]
    },
    {
      "cell_type": "code",
      "source": [
        "combined_features.shape"
      ],
      "metadata": {
        "colab": {
          "base_uri": "https://localhost:8080/"
        },
        "id": "qU4pz8RmcoYY",
        "outputId": "b3111170-394f-4305-b7d7-e2ef74e8eca7"
      },
      "execution_count": 58,
      "outputs": [
        {
          "output_type": "execute_result",
          "data": {
            "text/plain": [
              "(5161,)"
            ]
          },
          "metadata": {},
          "execution_count": 58
        }
      ]
    }
  ]
}