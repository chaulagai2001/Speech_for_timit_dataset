{
  "nbformat": 4,
  "nbformat_minor": 0,
  "metadata": {
    "colab": {
      "provenance": [],
      "include_colab_link": true
    },
    "kernelspec": {
      "name": "python3",
      "display_name": "Python 3"
    },
    "language_info": {
      "name": "python"
    }
  },
  "cells": [
    {
      "cell_type": "markdown",
      "metadata": {
        "id": "view-in-github",
        "colab_type": "text"
      },
      "source": [
        "<a href=\"https://colab.research.google.com/github/chaulagai2001/Speech_for_timit_dataset/blob/main/model_definition_updated.ipynb\" target=\"_parent\"><img src=\"https://colab.research.google.com/assets/colab-badge.svg\" alt=\"Open In Colab\"/></a>"
      ]
    },
    {
      "cell_type": "code",
      "execution_count": 3,
      "metadata": {
        "colab": {
          "base_uri": "https://localhost:8080/"
        },
        "id": "AVlhJq2_DRyP",
        "outputId": "d16b5f9c-410a-4d31-c494-4e7d95af7149"
      },
      "outputs": [
        {
          "output_type": "stream",
          "name": "stdout",
          "text": [
            "Downloading darpa-timit-acousticphonetic-continuous-speech.zip to /content\n",
            " 99% 818M/829M [00:08<00:00, 122MB/s]\n",
            "100% 829M/829M [00:08<00:00, 97.0MB/s]\n"
          ]
        }
      ],
      "source": [
        "# Move the uploaded Kaggle API key to the required directory\n",
        "!mkdir -p ~/.kaggle\n",
        "!cp kaggle.json ~/.kaggle/\n",
        "!chmod 600 ~/.kaggle/kaggle.json\n",
        "\n",
        "# Replace \"your_dataset\" with the Kaggle dataset username/dataset name\n",
        "!kaggle datasets download -d mfekadu/darpa-timit-acousticphonetic-continuous-speech"
      ]
    },
    {
      "cell_type": "code",
      "source": [
        "!unzip -q darpa-timit-acousticphonetic-continuous-speech.zip -d darpa-timit-acousticphonetic-continuous-speech"
      ],
      "metadata": {
        "id": "tEKyxHsXHQge"
      },
      "execution_count": 4,
      "outputs": []
    },
    {
      "cell_type": "code",
      "source": [
        "import os\n",
        "import librosa\n",
        "\n",
        "def get_longest_length(root_dir):\n",
        "    max_length = 0\n",
        "    for subdir, _, files in os.walk(root_dir):\n",
        "        for file in files:\n",
        "            if file.endswith('.wav'):  # adjust extension if needed\n",
        "                file_path = os.path.join(subdir, file)\n",
        "                audio, _ = librosa.load(file_path, sr=None)\n",
        "                max_length = max(max_length, len(audio))\n",
        "    return max_length\n",
        "\n",
        "root_directory = '/content/darpa-timit-acousticphonetic-continuous-speech/data'\n",
        "longest_length = get_longest_length(root_directory)\n",
        "print(\"Longest length:\", longest_length)\n"
      ],
      "metadata": {
        "id": "1s7DuldctVNb",
        "colab": {
          "base_uri": "https://localhost:8080/"
        },
        "outputId": "f207b91f-3cac-4f2c-b74f-1ecb65e9f665"
      },
      "execution_count": 5,
      "outputs": [
        {
          "output_type": "stream",
          "name": "stdout",
          "text": [
            "Longest length: 124621\n"
          ]
        }
      ]
    },
    {
      "cell_type": "code",
      "source": [
        "import os\n",
        "import numpy as np\n",
        "import torch\n",
        "import librosa\n",
        "\n",
        "# Phoneme mapping dictionary\n",
        "phn_map = {\n",
        "    \"iy\": 1, \"ix\": 2, \"ih\": 3, \"eh\": 4, \"ae\": 5, \"ax\": 6, \"ah\": 7, \"ax-h\": 8, \"uw\": 9, \"ux\": 10,\n",
        "    \"uh\": 11, \"ao\": 12, \"aa\": 13, \"ey\": 14, \"ay\": 15, \"oy\": 16, \"aw\": 17, \"ow\": 18, \"er\": 19,\n",
        "    \"axr\": 20, \"l\": 21, \"el\": 22, \"r\": 23, \"w\": 24, \"y\": 25, \"m\": 26, \"em\": 27, \"n\": 28, \"en\": 29,\n",
        "    \"nx\": 30, \"ng\": 31, \"eng\": 32, \"v\": 33, \"f\": 34, \"dh\": 35, \"th\": 36, \"z\": 37, \"s\": 38, \"zh\": 39,\n",
        "    \"sh\": 40, \"jh\": 41, \"ch\": 42, \"b\": 43, \"p\": 44, \"d\": 45, \"dx\": 46, \"t\": 47, \"g\": 48, \"k\": 49,\n",
        "    \"hh\": 50, \"hv\": 51, \"bcl\": 52, \"pcl\": 53, \"dcl\": 54, \"tcl\": 55, \"gcl\": 56, \"kcl\": 57, \"q\": 58,\n",
        "    \"epi\": 59, \"pau\": 60, \"h#\": 61, \"tcl\": 62, \"ix\": 63, \"ax\": 64\n",
        "}\n",
        "\n",
        "class TIMITSample:\n",
        "    def __init__(self, wav_file, phn_file, sample_rate=16000, audio_length=16000):\n",
        "        self.wav_file = wav_file\n",
        "        self.phn_file = phn_file\n",
        "        self.sample_rate = sample_rate\n",
        "        self.audio_length = audio_length\n",
        "\n",
        "        self.process_sample()\n",
        "\n",
        "    def process_sample(self):\n",
        "        # Load and preprocess audio\n",
        "        waveform, _ = librosa.load(self.wav_file, sr=self.sample_rate, mono=True, duration=self.audio_length/self.sample_rate)\n",
        "        # Perform padding or truncation\n",
        "        if len(waveform) < self.audio_length:\n",
        "            pad_amount = self.audio_length - len(waveform)\n",
        "            waveform = np.pad(waveform, (0, pad_amount), mode='constant')\n",
        "        else:\n",
        "            waveform = waveform[:self.audio_length]\n",
        "        # Normalize waveform\n",
        "        self.waveform = waveform.astype(np.float32) / np.max(np.abs(waveform))\n",
        "\n",
        "        # Process labels using provided phoneme mapping dictionary\n",
        "        with open(self.phn_file, 'r') as f:\n",
        "            lines = f.readlines()\n",
        "            labels = []\n",
        "            for line in lines:\n",
        "                _, _, label = line.strip().split(' ')\n",
        "                labels.append(phn_map[label.lower()])  # Map label to numeric value using lowercase label\n",
        "            self.labels = torch.tensor(labels)\n",
        "\n",
        "    def extract_mfcc(self, n_mfcc=13, win_len=0.025, win_step=0.01):\n",
        "        # Extract MFCC features\n",
        "        mfcc = librosa.feature.mfcc(y=self.waveform, sr=self.sample_rate, n_mfcc=n_mfcc, hop_length=int(self.sample_rate*win_step), n_fft=int(self.sample_rate*win_len))\n",
        "\n",
        "        # Compute delta and delta-delta features\n",
        "        delta_mfcc = librosa.feature.delta(mfcc, order=1)\n",
        "        delta_delta_mfcc = librosa.feature.delta(mfcc, order=2)\n",
        "\n",
        "        # Concatenate MFCC with delta, delta-delta, and delta-delta-delta\n",
        "        feat = np.concatenate((mfcc, delta_mfcc, delta_delta_mfcc), axis=0)\n",
        "\n",
        "        # Transpose feature matrix to have frames as rows\n",
        "        feat = np.transpose(feat)\n",
        "\n",
        "        return feat, self.labels\n",
        "\n",
        "# Provide the path to a single .wav file and its corresponding .phn file\n",
        "wav_file_path = '/content/darpa-timit-acousticphonetic-continuous-speech/data/TEST/DR1/FAKS0/SA1.WAV.wav'\n",
        "phn_file_path = '/content/darpa-timit-acousticphonetic-continuous-speech/data/TEST/DR1/FAKS0/SA1.PHN'\n",
        "\n",
        "# Initialize a TIMITSample instance\n",
        "sample = TIMITSample(wav_file_path, phn_file_path)\n",
        "\n",
        "# Extract MFCC features and corresponding labels\n",
        "mfcc_features, labels = sample.extract_mfcc()\n",
        "\n",
        "# Print shapes and labels\n",
        "print(\"MFCC features shape:\", mfcc_features.shape)\n",
        "print(f\"MFCC features: {mfcc_features}\")\n",
        "print(\"Labels:\", labels)\n"
      ],
      "metadata": {
        "colab": {
          "base_uri": "https://localhost:8080/"
        },
        "id": "u24vhSOlLQ37",
        "outputId": "5eb3a03c-5aac-4ad7-9f1a-2a3298b11ebc"
      },
      "execution_count": 6,
      "outputs": [
        {
          "output_type": "stream",
          "name": "stdout",
          "text": [
            "MFCC features shape: (101, 39)\n",
            "MFCC features: [[-6.8276794e+02  1.1592339e+01  1.1371281e+01 ... -1.9903464e-02\n",
            "  -8.0245900e-01 -9.9338686e-01]\n",
            " [-6.8503485e+02  7.5996628e+00  7.2753029e+00 ... -1.9903464e-02\n",
            "  -8.0245900e-01 -9.9338686e-01]\n",
            " [-6.8394299e+02  8.9573126e+00  8.8233643e+00 ... -1.9903464e-02\n",
            "  -8.0245900e-01 -9.9338686e-01]\n",
            " ...\n",
            " [-2.5071683e+02  5.0535942e+01 -7.8345879e+01 ...  3.1451304e+00\n",
            "  -2.9934117e-01  1.1730026e-01]\n",
            " [-2.4914731e+02  5.3415001e+01 -6.3599903e+01 ...  3.1451304e+00\n",
            "  -2.9934117e-01  1.1730026e-01]\n",
            " [-1.8479712e+02  7.8521271e+01 -5.2789696e+01 ...  3.1451304e+00\n",
            "  -2.9934117e-01  1.1730026e-01]]\n",
            "Labels: tensor([61, 40,  1, 51,  5, 54, 45, 25, 19, 54, 45, 13, 23, 57, 49, 38,  9, 46,\n",
            "         3, 31, 56, 48, 23,  1, 38,  1, 24, 13, 40, 59, 24, 13, 46, 19, 58, 12,\n",
            "        21, 25,  1, 20, 61])\n"
          ]
        }
      ]
    },
    {
      "cell_type": "code",
      "source": [
        "import matplotlib.pyplot as plt\n",
        "\n",
        "# Initialize a TIMITSample instance\n",
        "sample = TIMITSample(wav_file_path, phn_file_path)\n",
        "\n",
        "# Extract MFCC features and corresponding labels\n",
        "mfcc_features, labels = sample.extract_mfcc()\n",
        "\n",
        "# Plot MFCC features\n",
        "plt.figure(figsize=(10, 4))\n",
        "plt.imshow(mfcc_features.T, origin='lower', aspect='auto', cmap='viridis')\n",
        "plt.xlabel('MFCC Coefficients')\n",
        "plt.ylabel('Frame')\n",
        "plt.title('MFCC Features')\n",
        "plt.colorbar().set_label('Magnitude')\n",
        "plt.show()\n"
      ],
      "metadata": {
        "colab": {
          "base_uri": "https://localhost:8080/",
          "height": 410
        },
        "id": "TGadZbk4P_3r",
        "outputId": "69e9b5f9-3d3e-441e-d58f-25f65685af80"
      },
      "execution_count": 7,
      "outputs": [
        {
          "output_type": "display_data",
          "data": {
            "text/plain": [
              "<Figure size 1000x400 with 2 Axes>"
            ],
            "image/png": "[encoded data removed]"
          },
          "metadata": {}
        }
      ]
    },
    {
      "cell_type": "code",
      "source": [
        "import torch\n",
        "from torch.nn.utils.rnn import pad_sequence\n",
        "import numpy as np\n",
        "import os\n",
        "\n",
        "class TIMITDataset:\n",
        "    def __init__(self, data_dir):\n",
        "        self.data_dir = data_dir\n",
        "        self.file_pairs = self._get_file_pairs()\n",
        "\n",
        "    def _get_file_pairs(self):\n",
        "        file_pairs = []\n",
        "        for root, _, files in os.walk(self.data_dir):\n",
        "            for file in files:\n",
        "                if file.endswith(\".WAV.wav\"):\n",
        "                    wav_file_path = os.path.join(root, file)\n",
        "                    phn_file_path = os.path.join(root, file.replace(\".WAV.wav\", \".PHN\"))\n",
        "                    if os.path.exists(phn_file_path):\n",
        "                        file_pairs.append((wav_file_path, phn_file_path))\n",
        "        return file_pairs\n",
        "\n",
        "    def __len__(self):\n",
        "        return len(self.file_pairs)\n",
        "\n",
        "    def __getitem__(self, idx):\n",
        "        wav_file, phn_file = self.file_pairs[idx]\n",
        "        sample = TIMITSample(wav_file, phn_file)\n",
        "        mfcc_features, labels = sample.extract_mfcc()\n",
        "\n",
        "        # Convert MFCC features to torch tensors\n",
        "        mfcc_tensors = [torch.tensor(x) for x in mfcc_features]\n",
        "\n",
        "        # Pad sequences to ensure they all have the same length\n",
        "        padded_mfcc = pad_sequence(mfcc_tensors, batch_first=True)\n",
        "\n",
        "        return padded_mfcc, labels\n"
      ],
      "metadata": {
        "id": "Izn3dTTbUPYt"
      },
      "execution_count": 8,
      "outputs": []
    },
    {
      "cell_type": "code",
      "source": [
        "# Directory containing .wav and .phn files\n",
        "data_dir = '/content/darpa-timit-acousticphonetic-continuous-speech/data/TRAIN'\n",
        "\n",
        "# Instantiate TIMITDataset\n",
        "train = TIMITDataset(data_dir)\n",
        "\n",
        "# Preprocess and store data\n",
        "processed_data_dir = '/content/train_npy'\n",
        "\n",
        "for idx, (mfcc_features, labels) in enumerate(train):\n",
        "    # Create directories if they don't exist\n",
        "    os.makedirs(processed_data_dir, exist_ok=True)\n",
        "\n",
        "    # Save MFCC features and labels to NumPy files\n",
        "    np.save(os.path.join(processed_data_dir, f'mfcc_{idx}.npy'), mfcc_features.numpy())\n",
        "    np.save(os.path.join(processed_data_dir, f'labels_{idx}.npy'), labels.numpy())\n"
      ],
      "metadata": {
        "id": "w-nrU_4JUtt6"
      },
      "execution_count": 10,
      "outputs": []
    },
    {
      "cell_type": "code",
      "source": [
        "# preprocess and store for test data\n",
        "data_dir = '/content/darpa-timit-acousticphonetic-continuous-speech/data/TEST'\n",
        "\n",
        "# Instantiate TIMITDataset\n",
        "test = TIMITDataset(data_dir)\n",
        "\n",
        "# Preprocess and store data\n",
        "processed_data_dir = '/content/test_npy'\n",
        "\n",
        "for idx, (mfcc_features, labels) in enumerate(test):\n",
        "    # Create directories if they don't exist\n",
        "    os.makedirs(processed_data_dir, exist_ok=True)\n",
        "\n",
        "    # Save MFCC features and labels to NumPy files\n",
        "    np.save(os.path.join(processed_data_dir, f'mfcc_{idx}.npy'), mfcc_features.numpy())\n",
        "    np.save(os.path.join(processed_data_dir, f'labels_{idx}.npy'), labels.numpy())"
      ],
      "metadata": {
        "id": "5Lf0bZ6uVjWI"
      },
      "execution_count": 11,
      "outputs": []
    },
    {
      "cell_type": "code",
      "source": [
        "import os\n",
        "import numpy as np\n",
        "from sklearn.model_selection import train_test_split\n",
        "\n",
        "# Assuming you have already defined TIMITDataset class and processed the test data as in your previous code\n",
        "\n",
        "# Preprocess and store data\n",
        "processed_data_dir = '/content/test_npy'\n",
        "os.makedirs(processed_data_dir, exist_ok=True)\n",
        "\n",
        "# Collect all the processed data paths\n",
        "mfcc_paths = sorted([os.path.join(processed_data_dir, f) for f in os.listdir(processed_data_dir) if f.startswith('mfcc_')])\n",
        "label_paths = sorted([os.path.join(processed_data_dir, f) for f in os.listdir(processed_data_dir) if f.startswith('labels_')])\n",
        "\n",
        "# Load all the processed data\n",
        "mfcc_data = [np.load(path) for path in mfcc_paths]\n",
        "label_data = [np.load(path) for path in label_paths]\n",
        "\n",
        "# Split the data into test and validation sets\n",
        "test_mfcc, val_mfcc, test_labels, val_labels = train_test_split(mfcc_data, label_data, test_size=0.2, random_state=42)\n",
        "\n",
        "# Save the split data into separate directories for test and validation\n",
        "test_data_dir = os.path.join(processed_data_dir, 'test')\n",
        "val_data_dir = os.path.join(processed_data_dir, 'validation')\n",
        "\n",
        "os.makedirs(test_data_dir, exist_ok=True)\n",
        "os.makedirs(val_data_dir, exist_ok=True)\n",
        "\n",
        "# Save test data\n",
        "for idx, (mfcc, labels) in enumerate(zip(test_mfcc, test_labels)):\n",
        "    np.save(os.path.join(test_data_dir, f'mfcc_{idx}.npy'), mfcc)\n",
        "    np.save(os.path.join(test_data_dir, f'labels_{idx}.npy'), labels)\n",
        "\n",
        "# Save validation data\n",
        "for idx, (mfcc, labels) in enumerate(zip(val_mfcc, val_labels)):\n",
        "    np.save(os.path.join(val_data_dir, f'mfcc_{idx}.npy'), mfcc)\n",
        "    np.save(os.path.join(val_data_dir, f'labels_{idx}.npy'), labels)\n"
      ],
      "metadata": {
        "id": "RZ9S9nQkWZKO"
      },
      "execution_count": 12,
      "outputs": []
    },
    {
      "cell_type": "code",
      "source": [
        "import os\n",
        "import torch\n",
        "from torch.utils.data import Dataset, DataLoader\n",
        "import numpy as np\n",
        "\n",
        "class MfccDataset(Dataset):\n",
        "    def __init__(self, root_dir, transform=None):\n",
        "        self.root_dir = root_dir\n",
        "        self.transform = transform\n",
        "        self.mfcc_files = sorted([f for f in os.listdir(root_dir) if f.startswith('mfcc_')])\n",
        "        self.label_files = sorted([f for f in os.listdir(root_dir) if f.startswith('labels_')])\n",
        "        self.max_length = self.get_max_length()\n",
        "\n",
        "    def __len__(self):\n",
        "        return len(self.mfcc_files)\n",
        "\n",
        "    def __getitem__(self, idx):\n",
        "        mfcc_path = os.path.join(self.root_dir, self.mfcc_files[idx])\n",
        "        label_path = os.path.join(self.root_dir, self.label_files[idx])\n",
        "\n",
        "        mfcc = np.load(mfcc_path)  # Assuming MFCC files are numpy arrays\n",
        "        label = np.load(label_path)  # Assuming label files are numpy arrays\n",
        "\n",
        "        # Pad MFCCs and labels to the max length\n",
        "        mfcc = self.pad_sequence(mfcc, self.max_length)\n",
        "        label = self.pad_sequence(label, self.max_length)\n",
        "\n",
        "        if self.transform:\n",
        "            mfcc = self.transform(mfcc)\n",
        "\n",
        "        return mfcc, label\n",
        "\n",
        "    def get_max_length(self):\n",
        "        max_length = 0\n",
        "        for mfcc_file in self.mfcc_files:\n",
        "            mfcc_path = os.path.join(self.root_dir, mfcc_file)\n",
        "            mfcc = np.load(mfcc_path)\n",
        "            max_length = max(max_length, mfcc.shape[0])\n",
        "        return max_length\n",
        "\n",
        "    def pad_sequence(self, sequence, max_length):\n",
        "        current_length = sequence.shape[0]\n",
        "        if current_length < max_length:\n",
        "            # Pad with zeros\n",
        "            padding = np.zeros((max_length - current_length, *sequence.shape[1:]), dtype=sequence.dtype)\n",
        "            sequence = np.concatenate((sequence, padding), axis=0)\n",
        "        return sequence\n",
        "\n",
        "def create_data_loader(dataset, batch_size, shuffle=True):\n",
        "    return DataLoader(dataset, batch_size=batch_size, shuffle=shuffle)\n",
        "\n",
        "def main():\n",
        "    # Example root directories containing MFCC and label files\n",
        "    train_root_dir = '/content/train_npy'\n",
        "    val_root_dir = '/content/test_npy/validation'\n",
        "    test_root_dir = '/content/test_npy/test'\n",
        "\n",
        "    # Create datasets\n",
        "    train_dataset = MfccDataset(train_root_dir)\n",
        "    val_dataset = MfccDataset(val_root_dir)\n",
        "    test_dataset = MfccDataset(test_root_dir)\n",
        "\n",
        "    # Create DataLoader for each dataset\n",
        "    batch_size = 32\n",
        "    train_loader = create_data_loader(train_dataset, batch_size=batch_size, shuffle=True)\n",
        "    val_loader = create_data_loader(val_dataset, batch_size=batch_size, shuffle=False)\n",
        "    test_loader = create_data_loader(test_dataset, batch_size=batch_size, shuffle=False)\n",
        "\n",
        "\n",
        "    # Example of iterating through the DataLoader\n",
        "    for batch_idx, (mfcc_batch, label_batch) in enumerate(train_loader):\n",
        "        print(\"for train dataset\")\n",
        "        print(f\"Batch {batch_idx + 1}:\")\n",
        "        print(\"MFCC Shape:\", mfcc_batch.shape)\n",
        "        print(\"Label Shape:\", label_batch.shape)\n",
        "\n",
        "    return train_dataset, val_dataset, test_dataset, train_loader, val_loader, test_loader\n",
        "\n",
        "if __name__ == \"__main__\":\n",
        "    main()\n"
      ],
      "metadata": {
        "id": "HLvSQYpFxPa8"
      },
      "execution_count": null,
      "outputs": []
    },
    {
      "cell_type": "code",
      "source": [
        "import torch\n",
        "import torch.nn as nn\n",
        "\n",
        "class CNNModel(nn.Module):\n",
        "    def __init__(self, num_features, num_classes):\n",
        "        super(CNNModel, self).__init__()\n",
        "        self.conv1 = nn.Conv1d(in_channels=num_features, out_channels=32, kernel_size=3, padding=1)\n",
        "        self.conv2 = nn.Conv1d(in_channels=32, out_channels=64, kernel_size=3, padding=1)\n",
        "        self.pool = nn.MaxPool1d(kernel_size=2, stride=2)\n",
        "        self.fc1 = nn.Linear(64 * 26, 128)\n",
        "        self.fc2 = nn.Linear(128, num_classes)\n",
        "\n",
        "    def forward(self, x):\n",
        "        x = torch.relu(self.conv1(x))\n",
        "        x = self.pool(x)\n",
        "        x = torch.relu(self.conv2(x))\n",
        "        x = self.pool(x)\n",
        "        x = x.view(-1, 64 * 26)\n",
        "        x = torch.relu(self.fc1(x))\n",
        "        x = self.fc2(x)\n",
        "        return x"
      ],
      "metadata": {
        "id": "YtoX5czsAE_J"
      },
      "execution_count": 34,
      "outputs": []
    },
    {
      "cell_type": "code",
      "source": [
        "import torch\n",
        "import torch.nn as nn\n",
        "from torch.utils.data import DataLoader\n",
        "from torch.optim import Adam\n",
        "from torch.nn import CrossEntropyLoss\n",
        "\n",
        "# Import your MfccDataset class\n",
        "\n",
        "# Hyperparameters\n",
        "learning_rate = 0.001\n",
        "num_epochs = 10\n",
        "batch_size = 32\n",
        "\n",
        "# Define device (CPU or GPU)\n",
        "device = torch.device(\"cuda\" if torch.cuda.is_available() else \"cpu\")\n",
        "\n",
        "def train_model(model, train_loader, val_loader, optimizer, criterion):\n",
        "    best_val_acc = 0.0\n",
        "    for epoch in range(num_epochs):\n",
        "        model.train()\n",
        "        train_loss = 0.0\n",
        "        correct = 0\n",
        "        total = 0\n",
        "        for batch_idx, (mfcc, labels) in enumerate(train_loader):\n",
        "            mfcc, labels = mfcc.to(device), labels.to(device)\n",
        "            optimizer.zero_grad()\n",
        "            outputs = model(mfcc)\n",
        "            loss = criterion(outputs, labels)\n",
        "            loss.backward()\n",
        "            optimizer.step()\n",
        "\n",
        "            train_loss += loss.item()\n",
        "            _, predicted = torch.max(outputs.data, 1)\n",
        "            total += labels.size(0)\n",
        "            correct += (predicted == labels).sum().item()\n",
        "\n",
        "            if batch_idx % 100 == 0:\n",
        "                print('Epoch {}, Batch {}, Train Loss: {:.3f}, Accuracy: {:.3f}'.format(\n",
        "                    epoch, batch_idx + 1, train_loss / (batch_idx + 1), correct / total))\n",
        "\n",
        "        model.eval()\n",
        "        val_loss = 0.0\n",
        "        correct = 0\n",
        "        total = 0\n",
        "        with torch.no_grad():\n",
        "            for mfcc, labels in val_loader:\n",
        "                mfcc, labels = mfcc.to(device), labels.to(device)\n",
        "                outputs = model(mfcc)\n",
        "                loss = criterion(outputs, labels)\n",
        "                val_loss += loss.item()\n",
        "                _, predicted = torch.max(outputs.data, 1)\n",
        "                total += labels.size(0)\n",
        "                correct += (predicted == labels).sum().item()\n",
        "\n",
        "        val_acc = correct / total\n",
        "        print('Epoch {}, Validation Loss: {:.3f}, Accuracy: {:.3f}'.format(\n",
        "            epoch, val_loss / len(val_loader), val_acc))\n",
        "\n",
        "        if val_acc > best_val_acc:\n",
        "            best_val_acc = val_acc\n",
        "            torch.save(model.state_dict(), 'best_model.pt')\n",
        "\n",
        "    print('Best Validation Accuracy: {:.3f}'.format(best_val_acc))\n",
        "\n",
        "# Create model and set to device\n",
        "model = CNNModel(num_features=39, num_classes=10)  # Adjust feature and class count\n",
        "model.to(device)\n",
        "\n",
        "# Define criterion and optimizer\n",
        "criterion = CrossEntropyLoss()\n",
        "optimizer = Adam(model.parameters(), lr=learning_rate)\n",
        "\n",
        "train_dataset = MfccDataset(\"/content/train_npy\")\n",
        "val_dataset = MfccDataset(\"/content/test_npy/validation\")\n",
        "train_loader = DataLoader(train_dataset, batch_size=batch_size, shuffle=True)\n",
        "val_loader = DataLoader(val_dataset, batch_size=batch_size, shuffle=False)\n",
        "\n",
        "# Train the model\n",
        "train_model(model, train_loader, val_loader, optimizer, criterion)\n",
        "\n",
        "print('Finished training!')\n"
      ],
      "metadata": {
        "colab": {
          "base_uri": "https://localhost:8080/",
          "height": 370
        },
        "id": "hPQe4fReDjyP",
        "outputId": "937dbca3-9dd3-476f-fecb-305b45f3fd3a"
      },
      "execution_count": 37,
      "outputs": [
        {
          "output_type": "error",
          "ename": "RuntimeError",
          "evalue": "Given groups=1, weight of size [32, 39, 3], expected input[32, 101, 39] to have 39 channels, but got 101 channels instead",
          "traceback": [
            "\u001b[0;31m---------------------------------------------------------------------------\u001b[0m",
            "\u001b[0;31mRuntimeError\u001b[0m                              Traceback (most recent call last)",
            "\u001b[0;32m<ipython-input-37-42d8a5cad1f5>\u001b[0m in \u001b[0;36m<cell line: 79>\u001b[0;34m()\u001b[0m\n\u001b[1;32m     77\u001b[0m \u001b[0;34m\u001b[0m\u001b[0m\n\u001b[1;32m     78\u001b[0m \u001b[0;31m# Train the model\u001b[0m\u001b[0;34m\u001b[0m\u001b[0;34m\u001b[0m\u001b[0m\n\u001b[0;32m---> 79\u001b[0;31m \u001b[0mtrain_model\u001b[0m\u001b[0;34m(\u001b[0m\u001b[0mmodel\u001b[0m\u001b[0;34m,\u001b[0m \u001b[0mtrain_loader\u001b[0m\u001b[0;34m,\u001b[0m \u001b[0mval_loader\u001b[0m\u001b[0;34m,\u001b[0m \u001b[0moptimizer\u001b[0m\u001b[0;34m,\u001b[0m \u001b[0mcriterion\u001b[0m\u001b[0;34m)\u001b[0m\u001b[0;34m\u001b[0m\u001b[0;34m\u001b[0m\u001b[0m\n\u001b[0m\u001b[1;32m     80\u001b[0m \u001b[0;34m\u001b[0m\u001b[0m\n\u001b[1;32m     81\u001b[0m \u001b[0mprint\u001b[0m\u001b[0;34m(\u001b[0m\u001b[0;34m'Finished training!'\u001b[0m\u001b[0;34m)\u001b[0m\u001b[0;34m\u001b[0m\u001b[0;34m\u001b[0m\u001b[0m\n",
            "\u001b[0;32m<ipython-input-37-42d8a5cad1f5>\u001b[0m in \u001b[0;36mtrain_model\u001b[0;34m(model, train_loader, val_loader, optimizer, criterion)\u001b[0m\n\u001b[1;32m     25\u001b[0m             \u001b[0mmfcc\u001b[0m\u001b[0;34m,\u001b[0m \u001b[0mlabels\u001b[0m \u001b[0;34m=\u001b[0m \u001b[0mmfcc\u001b[0m\u001b[0;34m.\u001b[0m\u001b[0mto\u001b[0m\u001b[0;34m(\u001b[0m\u001b[0mdevice\u001b[0m\u001b[0;34m)\u001b[0m\u001b[0;34m,\u001b[0m \u001b[0mlabels\u001b[0m\u001b[0;34m.\u001b[0m\u001b[0mto\u001b[0m\u001b[0;34m(\u001b[0m\u001b[0mdevice\u001b[0m\u001b[0;34m)\u001b[0m\u001b[0;34m\u001b[0m\u001b[0;34m\u001b[0m\u001b[0m\n\u001b[1;32m     26\u001b[0m             \u001b[0moptimizer\u001b[0m\u001b[0;34m.\u001b[0m\u001b[0mzero_grad\u001b[0m\u001b[0;34m(\u001b[0m\u001b[0;34m)\u001b[0m\u001b[0;34m\u001b[0m\u001b[0;34m\u001b[0m\u001b[0m\n\u001b[0;32m---> 27\u001b[0;31m             \u001b[0moutputs\u001b[0m \u001b[0;34m=\u001b[0m \u001b[0mmodel\u001b[0m\u001b[0;34m(\u001b[0m\u001b[0mmfcc\u001b[0m\u001b[0;34m)\u001b[0m\u001b[0;34m\u001b[0m\u001b[0;34m\u001b[0m\u001b[0m\n\u001b[0m\u001b[1;32m     28\u001b[0m             \u001b[0mloss\u001b[0m \u001b[0;34m=\u001b[0m \u001b[0mcriterion\u001b[0m\u001b[0;34m(\u001b[0m\u001b[0moutputs\u001b[0m\u001b[0;34m,\u001b[0m \u001b[0mlabels\u001b[0m\u001b[0;34m)\u001b[0m\u001b[0;34m\u001b[0m\u001b[0;34m\u001b[0m\u001b[0m\n\u001b[1;32m     29\u001b[0m             \u001b[0mloss\u001b[0m\u001b[0;34m.\u001b[0m\u001b[0mbackward\u001b[0m\u001b[0;34m(\u001b[0m\u001b[0;34m)\u001b[0m\u001b[0;34m\u001b[0m\u001b[0;34m\u001b[0m\u001b[0m\n",
            "\u001b[0;32m/usr/local/lib/python3.10/dist-packages/torch/nn/modules/module.py\u001b[0m in \u001b[0;36m_wrapped_call_impl\u001b[0;34m(self, *args, **kwargs)\u001b[0m\n\u001b[1;32m   1516\u001b[0m             \u001b[0;32mreturn\u001b[0m \u001b[0mself\u001b[0m\u001b[0;34m.\u001b[0m\u001b[0m_compiled_call_impl\u001b[0m\u001b[0;34m(\u001b[0m\u001b[0;34m*\u001b[0m\u001b[0margs\u001b[0m\u001b[0;34m,\u001b[0m \u001b[0;34m**\u001b[0m\u001b[0mkwargs\u001b[0m\u001b[0;34m)\u001b[0m  \u001b[0;31m# type: ignore[misc]\u001b[0m\u001b[0;34m\u001b[0m\u001b[0;34m\u001b[0m\u001b[0m\n\u001b[1;32m   1517\u001b[0m         \u001b[0;32melse\u001b[0m\u001b[0;34m:\u001b[0m\u001b[0;34m\u001b[0m\u001b[0;34m\u001b[0m\u001b[0m\n\u001b[0;32m-> 1518\u001b[0;31m             \u001b[0;32mreturn\u001b[0m \u001b[0mself\u001b[0m\u001b[0;34m.\u001b[0m\u001b[0m_call_impl\u001b[0m\u001b[0;34m(\u001b[0m\u001b[0;34m*\u001b[0m\u001b[0margs\u001b[0m\u001b[0;34m,\u001b[0m \u001b[0;34m**\u001b[0m\u001b[0mkwargs\u001b[0m\u001b[0;34m)\u001b[0m\u001b[0;34m\u001b[0m\u001b[0;34m\u001b[0m\u001b[0m\n\u001b[0m\u001b[1;32m   1519\u001b[0m \u001b[0;34m\u001b[0m\u001b[0m\n\u001b[1;32m   1520\u001b[0m     \u001b[0;32mdef\u001b[0m \u001b[0m_call_impl\u001b[0m\u001b[0;34m(\u001b[0m\u001b[0mself\u001b[0m\u001b[0;34m,\u001b[0m \u001b[0;34m*\u001b[0m\u001b[0margs\u001b[0m\u001b[0;34m,\u001b[0m \u001b[0;34m**\u001b[0m\u001b[0mkwargs\u001b[0m\u001b[0;34m)\u001b[0m\u001b[0;34m:\u001b[0m\u001b[0;34m\u001b[0m\u001b[0;34m\u001b[0m\u001b[0m\n",
            "\u001b[0;32m/usr/local/lib/python3.10/dist-packages/torch/nn/modules/module.py\u001b[0m in \u001b[0;36m_call_impl\u001b[0;34m(self, *args, **kwargs)\u001b[0m\n\u001b[1;32m   1525\u001b[0m                 \u001b[0;32mor\u001b[0m \u001b[0m_global_backward_pre_hooks\u001b[0m \u001b[0;32mor\u001b[0m \u001b[0m_global_backward_hooks\u001b[0m\u001b[0;34m\u001b[0m\u001b[0;34m\u001b[0m\u001b[0m\n\u001b[1;32m   1526\u001b[0m                 or _global_forward_hooks or _global_forward_pre_hooks):\n\u001b[0;32m-> 1527\u001b[0;31m             \u001b[0;32mreturn\u001b[0m \u001b[0mforward_call\u001b[0m\u001b[0;34m(\u001b[0m\u001b[0;34m*\u001b[0m\u001b[0margs\u001b[0m\u001b[0;34m,\u001b[0m \u001b[0;34m**\u001b[0m\u001b[0mkwargs\u001b[0m\u001b[0;34m)\u001b[0m\u001b[0;34m\u001b[0m\u001b[0;34m\u001b[0m\u001b[0m\n\u001b[0m\u001b[1;32m   1528\u001b[0m \u001b[0;34m\u001b[0m\u001b[0m\n\u001b[1;32m   1529\u001b[0m         \u001b[0;32mtry\u001b[0m\u001b[0;34m:\u001b[0m\u001b[0;34m\u001b[0m\u001b[0;34m\u001b[0m\u001b[0m\n",
            "\u001b[0;32m<ipython-input-34-f86f1058e571>\u001b[0m in \u001b[0;36mforward\u001b[0;34m(self, x)\u001b[0m\n\u001b[1;32m     12\u001b[0m \u001b[0;34m\u001b[0m\u001b[0m\n\u001b[1;32m     13\u001b[0m     \u001b[0;32mdef\u001b[0m \u001b[0mforward\u001b[0m\u001b[0;34m(\u001b[0m\u001b[0mself\u001b[0m\u001b[0;34m,\u001b[0m \u001b[0mx\u001b[0m\u001b[0;34m)\u001b[0m\u001b[0;34m:\u001b[0m\u001b[0;34m\u001b[0m\u001b[0;34m\u001b[0m\u001b[0m\n\u001b[0;32m---> 14\u001b[0;31m         \u001b[0mx\u001b[0m \u001b[0;34m=\u001b[0m \u001b[0mtorch\u001b[0m\u001b[0;34m.\u001b[0m\u001b[0mrelu\u001b[0m\u001b[0;34m(\u001b[0m\u001b[0mself\u001b[0m\u001b[0;34m.\u001b[0m\u001b[0mconv1\u001b[0m\u001b[0;34m(\u001b[0m\u001b[0mx\u001b[0m\u001b[0;34m)\u001b[0m\u001b[0;34m)\u001b[0m\u001b[0;34m\u001b[0m\u001b[0;34m\u001b[0m\u001b[0m\n\u001b[0m\u001b[1;32m     15\u001b[0m         \u001b[0mx\u001b[0m \u001b[0;34m=\u001b[0m \u001b[0mself\u001b[0m\u001b[0;34m.\u001b[0m\u001b[0mpool\u001b[0m\u001b[0;34m(\u001b[0m\u001b[0mx\u001b[0m\u001b[0;34m)\u001b[0m\u001b[0;34m\u001b[0m\u001b[0;34m\u001b[0m\u001b[0m\n\u001b[1;32m     16\u001b[0m         \u001b[0mx\u001b[0m \u001b[0;34m=\u001b[0m \u001b[0mtorch\u001b[0m\u001b[0;34m.\u001b[0m\u001b[0mrelu\u001b[0m\u001b[0;34m(\u001b[0m\u001b[0mself\u001b[0m\u001b[0;34m.\u001b[0m\u001b[0mconv2\u001b[0m\u001b[0;34m(\u001b[0m\u001b[0mx\u001b[0m\u001b[0;34m)\u001b[0m\u001b[0;34m)\u001b[0m\u001b[0;34m\u001b[0m\u001b[0;34m\u001b[0m\u001b[0m\n",
            "\u001b[0;32m/usr/local/lib/python3.10/dist-packages/torch/nn/modules/module.py\u001b[0m in \u001b[0;36m_wrapped_call_impl\u001b[0;34m(self, *args, **kwargs)\u001b[0m\n\u001b[1;32m   1516\u001b[0m             \u001b[0;32mreturn\u001b[0m \u001b[0mself\u001b[0m\u001b[0;34m.\u001b[0m\u001b[0m_compiled_call_impl\u001b[0m\u001b[0;34m(\u001b[0m\u001b[0;34m*\u001b[0m\u001b[0margs\u001b[0m\u001b[0;34m,\u001b[0m \u001b[0;34m**\u001b[0m\u001b[0mkwargs\u001b[0m\u001b[0;34m)\u001b[0m  \u001b[0;31m# type: ignore[misc]\u001b[0m\u001b[0;34m\u001b[0m\u001b[0;34m\u001b[0m\u001b[0m\n\u001b[1;32m   1517\u001b[0m         \u001b[0;32melse\u001b[0m\u001b[0;34m:\u001b[0m\u001b[0;34m\u001b[0m\u001b[0;34m\u001b[0m\u001b[0m\n\u001b[0;32m-> 1518\u001b[0;31m             \u001b[0;32mreturn\u001b[0m \u001b[0mself\u001b[0m\u001b[0;34m.\u001b[0m\u001b[0m_call_impl\u001b[0m\u001b[0;34m(\u001b[0m\u001b[0;34m*\u001b[0m\u001b[0margs\u001b[0m\u001b[0;34m,\u001b[0m \u001b[0;34m**\u001b[0m\u001b[0mkwargs\u001b[0m\u001b[0;34m)\u001b[0m\u001b[0;34m\u001b[0m\u001b[0;34m\u001b[0m\u001b[0m\n\u001b[0m\u001b[1;32m   1519\u001b[0m \u001b[0;34m\u001b[0m\u001b[0m\n\u001b[1;32m   1520\u001b[0m     \u001b[0;32mdef\u001b[0m \u001b[0m_call_impl\u001b[0m\u001b[0;34m(\u001b[0m\u001b[0mself\u001b[0m\u001b[0;34m,\u001b[0m \u001b[0;34m*\u001b[0m\u001b[0margs\u001b[0m\u001b[0;34m,\u001b[0m \u001b[0;34m**\u001b[0m\u001b[0mkwargs\u001b[0m\u001b[0;34m)\u001b[0m\u001b[0;34m:\u001b[0m\u001b[0;34m\u001b[0m\u001b[0;34m\u001b[0m\u001b[0m\n",
            "\u001b[0;32m/usr/local/lib/python3.10/dist-packages/torch/nn/modules/module.py\u001b[0m in \u001b[0;36m_call_impl\u001b[0;34m(self, *args, **kwargs)\u001b[0m\n\u001b[1;32m   1525\u001b[0m                 \u001b[0;32mor\u001b[0m \u001b[0m_global_backward_pre_hooks\u001b[0m \u001b[0;32mor\u001b[0m \u001b[0m_global_backward_hooks\u001b[0m\u001b[0;34m\u001b[0m\u001b[0;34m\u001b[0m\u001b[0m\n\u001b[1;32m   1526\u001b[0m                 or _global_forward_hooks or _global_forward_pre_hooks):\n\u001b[0;32m-> 1527\u001b[0;31m             \u001b[0;32mreturn\u001b[0m \u001b[0mforward_call\u001b[0m\u001b[0;34m(\u001b[0m\u001b[0;34m*\u001b[0m\u001b[0margs\u001b[0m\u001b[0;34m,\u001b[0m \u001b[0;34m**\u001b[0m\u001b[0mkwargs\u001b[0m\u001b[0;34m)\u001b[0m\u001b[0;34m\u001b[0m\u001b[0;34m\u001b[0m\u001b[0m\n\u001b[0m\u001b[1;32m   1528\u001b[0m \u001b[0;34m\u001b[0m\u001b[0m\n\u001b[1;32m   1529\u001b[0m         \u001b[0;32mtry\u001b[0m\u001b[0;34m:\u001b[0m\u001b[0;34m\u001b[0m\u001b[0;34m\u001b[0m\u001b[0m\n",
            "\u001b[0;32m/usr/local/lib/python3.10/dist-packages/torch/nn/modules/conv.py\u001b[0m in \u001b[0;36mforward\u001b[0;34m(self, input)\u001b[0m\n\u001b[1;32m    308\u001b[0m \u001b[0;34m\u001b[0m\u001b[0m\n\u001b[1;32m    309\u001b[0m     \u001b[0;32mdef\u001b[0m \u001b[0mforward\u001b[0m\u001b[0;34m(\u001b[0m\u001b[0mself\u001b[0m\u001b[0;34m,\u001b[0m \u001b[0minput\u001b[0m\u001b[0;34m:\u001b[0m \u001b[0mTensor\u001b[0m\u001b[0;34m)\u001b[0m \u001b[0;34m->\u001b[0m \u001b[0mTensor\u001b[0m\u001b[0;34m:\u001b[0m\u001b[0;34m\u001b[0m\u001b[0;34m\u001b[0m\u001b[0m\n\u001b[0;32m--> 310\u001b[0;31m         \u001b[0;32mreturn\u001b[0m \u001b[0mself\u001b[0m\u001b[0;34m.\u001b[0m\u001b[0m_conv_forward\u001b[0m\u001b[0;34m(\u001b[0m\u001b[0minput\u001b[0m\u001b[0;34m,\u001b[0m \u001b[0mself\u001b[0m\u001b[0;34m.\u001b[0m\u001b[0mweight\u001b[0m\u001b[0;34m,\u001b[0m \u001b[0mself\u001b[0m\u001b[0;34m.\u001b[0m\u001b[0mbias\u001b[0m\u001b[0;34m)\u001b[0m\u001b[0;34m\u001b[0m\u001b[0;34m\u001b[0m\u001b[0m\n\u001b[0m\u001b[1;32m    311\u001b[0m \u001b[0;34m\u001b[0m\u001b[0m\n\u001b[1;32m    312\u001b[0m \u001b[0;34m\u001b[0m\u001b[0m\n",
            "\u001b[0;32m/usr/local/lib/python3.10/dist-packages/torch/nn/modules/conv.py\u001b[0m in \u001b[0;36m_conv_forward\u001b[0;34m(self, input, weight, bias)\u001b[0m\n\u001b[1;32m    304\u001b[0m                             \u001b[0mweight\u001b[0m\u001b[0;34m,\u001b[0m \u001b[0mbias\u001b[0m\u001b[0;34m,\u001b[0m \u001b[0mself\u001b[0m\u001b[0;34m.\u001b[0m\u001b[0mstride\u001b[0m\u001b[0;34m,\u001b[0m\u001b[0;34m\u001b[0m\u001b[0;34m\u001b[0m\u001b[0m\n\u001b[1;32m    305\u001b[0m                             _single(0), self.dilation, self.groups)\n\u001b[0;32m--> 306\u001b[0;31m         return F.conv1d(input, weight, bias, self.stride,\n\u001b[0m\u001b[1;32m    307\u001b[0m                         self.padding, self.dilation, self.groups)\n\u001b[1;32m    308\u001b[0m \u001b[0;34m\u001b[0m\u001b[0m\n",
            "\u001b[0;31mRuntimeError\u001b[0m: Given groups=1, weight of size [32, 39, 3], expected input[32, 101, 39] to have 39 channels, but got 101 channels instead"
          ]
        }
      ]
    }
  ]
}